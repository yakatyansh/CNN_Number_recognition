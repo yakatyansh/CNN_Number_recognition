{
 "cells": [
  {
   "cell_type": "code",
   "execution_count": 1,
   "metadata": {},
   "outputs": [],
   "source": [
    "import numpy as np\n",
    "import torch \n",
    "import torchvision\n",
    "from time import time\n",
    "from torchvision import datasets, transforms\n",
    "from torch import nn, optim\n",
    "import matplotlib.pyplot as plt"
   ]
  },
  {
   "cell_type": "code",
   "execution_count": 2,
   "metadata": {},
   "outputs": [],
   "source": [
    "transform = transforms.Compose([transforms.ToTensor(), transforms.Normalize((0.5,), (0.5,)),])"
   ]
  },
  {
   "cell_type": "code",
   "execution_count": 3,
   "metadata": {},
   "outputs": [],
   "source": [
    "train_set = datasets.MNIST('MNIST_data/trainset', download=True, train=True, transform=transform)\n",
    "val_set = datasets.MNIST('MNIST_data/testset', download=True, train=False, transform=transform)\n",
    "train_loader = torch.utils.data.DataLoader(train_set, batch_size=64, shuffle=True)\n",
    "val_loader = torch.utils.data.DataLoader(val_set, batch_size=64, shuffle=True)\n"
   ]
  },
  {
   "cell_type": "code",
   "execution_count": 4,
   "metadata": {},
   "outputs": [
    {
     "name": "stdout",
     "output_type": "stream",
     "text": [
      "torch.Size([64, 1, 28, 28])\n",
      "torch.Size([64])\n"
     ]
    }
   ],
   "source": [
    "dataiter = iter(train_loader)\n",
    "images, labels = next(dataiter)\n",
    "\n",
    "print(images.shape)\n",
    "print(labels.shape)"
   ]
  },
  {
   "cell_type": "code",
   "execution_count": 5,
   "metadata": {},
   "outputs": [
    {
     "data": {
      "image/png": "[encoded data removed]",
      "text/plain": [
       "<Figure size 640x480 with 1 Axes>"
      ]
     },
     "metadata": {},
     "output_type": "display_data"
    }
   ],
   "source": [
    "plt.imshow(images[0].numpy().squeeze(), cmap='gray_r');"
   ]
  },
  {
   "cell_type": "code",
   "execution_count": 6,
   "metadata": {},
   "outputs": [
    {
     "name": "stdout",
     "output_type": "stream",
     "text": [
      "Sequential(\n",
      "  (0): Linear(in_features=784, out_features=128, bias=True)\n",
      "  (1): ReLU()\n",
      "  (2): Linear(in_features=128, out_features=64, bias=True)\n",
      "  (3): ReLU()\n",
      "  (4): Linear(in_features=64, out_features=10, bias=True)\n",
      "  (5): LogSoftmax(dim=1)\n",
      ")\n"
     ]
    }
   ],
   "source": [
    "input_size = 784\n",
    "hidden_sizes = [128, 64]\n",
    "output_size = 10\n",
    "\n",
    "model = nn.Sequential(nn.Linear(input_size, hidden_sizes[0]), nn.ReLU(), \n",
    "                      nn.Linear(hidden_sizes[0], hidden_sizes[1]), nn.ReLU(), \n",
    "                      nn.Linear(hidden_sizes[1], output_size), nn.LogSoftmax(dim=1))\n",
    "\n",
    "print(model)"
   ]
  },
  {
   "cell_type": "code",
   "execution_count": 8,
   "metadata": {},
   "outputs": [
    {
     "name": "stdout",
     "output_type": "stream",
     "text": [
      "Epoch: 1/50..  Training Loss: 0.049..  Test Loss: 0.099..  Test Accuracy: 0.969\n",
      "Epoch: 2/50..  Training Loss: 0.045..  Test Loss: 0.076..  Test Accuracy: 0.975\n",
      "Epoch: 3/50..  Training Loss: 0.042..  Test Loss: 0.074..  Test Accuracy: 0.977\n",
      "Epoch: 4/50..  Training Loss: 0.039..  Test Loss: 0.076..  Test Accuracy: 0.976\n",
      "Epoch: 5/50..  Training Loss: 0.035..  Test Loss: 0.080..  Test Accuracy: 0.974\n",
      "Epoch: 6/50..  Training Loss: 0.034..  Test Loss: 0.078..  Test Accuracy: 0.977\n",
      "Epoch: 7/50..  Training Loss: 0.031..  Test Loss: 0.079..  Test Accuracy: 0.976\n",
      "Epoch: 8/50..  Training Loss: 0.028..  Test Loss: 0.073..  Test Accuracy: 0.978\n",
      "Epoch: 9/50..  Training Loss: 0.027..  Test Loss: 0.073..  Test Accuracy: 0.978\n",
      "Epoch: 10/50..  Training Loss: 0.026..  Test Loss: 0.074..  Test Accuracy: 0.976\n",
      "Epoch: 11/50..  Training Loss: 0.023..  Test Loss: 0.083..  Test Accuracy: 0.977\n",
      "Epoch: 12/50..  Training Loss: 0.021..  Test Loss: 0.078..  Test Accuracy: 0.978\n",
      "Epoch: 13/50..  Training Loss: 0.020..  Test Loss: 0.074..  Test Accuracy: 0.979\n",
      "Epoch: 14/50..  Training Loss: 0.018..  Test Loss: 0.072..  Test Accuracy: 0.979\n",
      "Epoch: 15/50..  Training Loss: 0.017..  Test Loss: 0.076..  Test Accuracy: 0.979\n",
      "Epoch: 16/50..  Training Loss: 0.016..  Test Loss: 0.076..  Test Accuracy: 0.978\n",
      "Epoch: 17/50..  Training Loss: 0.014..  Test Loss: 0.074..  Test Accuracy: 0.979\n",
      "Epoch: 18/50..  Training Loss: 0.014..  Test Loss: 0.076..  Test Accuracy: 0.979\n",
      "Epoch: 19/50..  Training Loss: 0.013..  Test Loss: 0.077..  Test Accuracy: 0.978\n",
      "Epoch: 20/50..  Training Loss: 0.011..  Test Loss: 0.073..  Test Accuracy: 0.979\n",
      "Epoch: 21/50..  Training Loss: 0.010..  Test Loss: 0.078..  Test Accuracy: 0.979\n",
      "Epoch: 22/50..  Training Loss: 0.009..  Test Loss: 0.073..  Test Accuracy: 0.980\n",
      "Epoch: 23/50..  Training Loss: 0.009..  Test Loss: 0.077..  Test Accuracy: 0.979\n",
      "Epoch: 24/50..  Training Loss: 0.009..  Test Loss: 0.093..  Test Accuracy: 0.976\n",
      "Epoch: 25/50..  Training Loss: 0.008..  Test Loss: 0.077..  Test Accuracy: 0.979\n",
      "Epoch: 26/50..  Training Loss: 0.007..  Test Loss: 0.078..  Test Accuracy: 0.980\n",
      "Epoch: 27/50..  Training Loss: 0.006..  Test Loss: 0.081..  Test Accuracy: 0.980\n",
      "Epoch: 28/50..  Training Loss: 0.006..  Test Loss: 0.081..  Test Accuracy: 0.979\n",
      "Epoch: 29/50..  Training Loss: 0.005..  Test Loss: 0.082..  Test Accuracy: 0.980\n",
      "Epoch: 30/50..  Training Loss: 0.005..  Test Loss: 0.084..  Test Accuracy: 0.980\n",
      "Epoch: 31/50..  Training Loss: 0.004..  Test Loss: 0.080..  Test Accuracy: 0.980\n",
      "Epoch: 32/50..  Training Loss: 0.004..  Test Loss: 0.080..  Test Accuracy: 0.980\n",
      "Epoch: 33/50..  Training Loss: 0.004..  Test Loss: 0.080..  Test Accuracy: 0.980\n",
      "Epoch: 34/50..  Training Loss: 0.003..  Test Loss: 0.082..  Test Accuracy: 0.980\n",
      "Epoch: 35/50..  Training Loss: 0.003..  Test Loss: 0.081..  Test Accuracy: 0.981\n",
      "Epoch: 36/50..  Training Loss: 0.003..  Test Loss: 0.080..  Test Accuracy: 0.980\n",
      "Epoch: 37/50..  Training Loss: 0.003..  Test Loss: 0.082..  Test Accuracy: 0.980\n",
      "Epoch: 38/50..  Training Loss: 0.003..  Test Loss: 0.083..  Test Accuracy: 0.980\n",
      "Epoch: 39/50..  Training Loss: 0.003..  Test Loss: 0.085..  Test Accuracy: 0.980\n",
      "Epoch: 40/50..  Training Loss: 0.002..  Test Loss: 0.083..  Test Accuracy: 0.981\n",
      "Epoch: 41/50..  Training Loss: 0.002..  Test Loss: 0.084..  Test Accuracy: 0.981\n",
      "Epoch: 42/50..  Training Loss: 0.002..  Test Loss: 0.085..  Test Accuracy: 0.981\n",
      "Epoch: 43/50..  Training Loss: 0.002..  Test Loss: 0.088..  Test Accuracy: 0.980\n",
      "Epoch: 44/50..  Training Loss: 0.002..  Test Loss: 0.084..  Test Accuracy: 0.981\n",
      "Epoch: 45/50..  Training Loss: 0.002..  Test Loss: 0.086..  Test Accuracy: 0.981\n",
      "Epoch: 46/50..  Training Loss: 0.002..  Test Loss: 0.086..  Test Accuracy: 0.981\n",
      "Epoch: 47/50..  Training Loss: 0.002..  Test Loss: 0.087..  Test Accuracy: 0.980\n",
      "Epoch: 48/50..  Training Loss: 0.002..  Test Loss: 0.090..  Test Accuracy: 0.980\n",
      "Epoch: 49/50..  Training Loss: 0.001..  Test Loss: 0.086..  Test Accuracy: 0.980\n",
      "Epoch: 50/50..  Training Loss: 0.001..  Test Loss: 0.088..  Test Accuracy: 0.981\n"
     ]
    }
   ],
   "source": [
    "#training loop \n",
    "criterion = nn.NLLLoss()\n",
    "optimizer = optim.SGD(model.parameters(), lr=0.003, momentum=0.9)\n",
    "epochs = 50\n",
    "train_losses, test_losses = [], []\n",
    "\n",
    "\n",
    "for e in range(epochs):\n",
    "    running_loss = 0\n",
    "    for images, labels in train_loader:\n",
    "        images = images.view(images.shape[0], -1)\n",
    "    \n",
    "        optimizer.zero_grad()\n",
    "        \n",
    "        output = model(images)\n",
    "        loss = criterion(output, labels)\n",
    "        \n",
    "        loss.backward()\n",
    "        \n",
    "        #And optimizes its weights here\n",
    "        optimizer.step()\n",
    "        \n",
    "        running_loss += loss.item()\n",
    "    else:\n",
    "        test_loss = 0\n",
    "        accuracy = 0\n",
    "        \n",
    "        # Turn off gradients for validation, saves memory and computations\n",
    "        with torch.no_grad():\n",
    "            model.eval()\n",
    "            for images, labels in val_loader:\n",
    "                images = images.view(images.shape[0], -1)\n",
    "                log_ps = model(images)\n",
    "                test_loss += criterion(log_ps, labels)\n",
    "                \n",
    "                ps = torch.exp(log_ps)\n",
    "                top_p, top_class = ps.topk(1, dim=1)\n",
    "                equals = top_class == labels.view(*top_class.shape)\n",
    "                \n",
    "                accuracy += torch.mean(equals.type(torch.FloatTensor))\n",
    "                \n",
    "        model.train()\n",
    "        \n",
    "        train_losses.append(running_loss/len(train_loader))\n",
    "        test_losses.append(test_loss/len(val_loader))\n",
    "\n",
    "        print(\"Epoch: {}/{}.. \".format(e+1, epochs),\n",
    "              \"Training Loss: {:.3f}.. \".format(train_losses[-1]),\n",
    "              \"Test Loss: {:.3f}.. \".format(test_losses[-1]),\n",
    "              \"Test Accuracy: {:.3f}\".format(accuracy/len(val_loader)))"
   ]
  }
 ],
 "metadata": {
  "kernelspec": {
   "display_name": "Python 3 (ipykernel)",
   "language": "python",
   "name": "python3"
  },
  "language_info": {
   "codemirror_mode": {
    "name": "ipython",
    "version": 3
   },
   "file_extension": ".py",
   "mimetype": "text/x-python",
   "name": "python",
   "nbconvert_exporter": "python",
   "pygments_lexer": "ipython3",
   "version": "3.10.11"
  },
  "orig_nbformat": 4
 },
 "nbformat": 4,
 "nbformat_minor": 2
}
